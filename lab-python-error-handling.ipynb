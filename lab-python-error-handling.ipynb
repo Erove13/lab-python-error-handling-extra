{
 "cells": [
  {
   "cell_type": "markdown",
   "id": "25d7736c-ba17-4aff-b6bb-66eba20fbf4e",
   "metadata": {},
   "source": [
    "# Lab | Error Handling"
   ]
  },
  {
   "cell_type": "markdown",
   "id": "6f8e446f-16b4-4e21-92e7-9d3d1eb551b6",
   "metadata": {},
   "source": [
    "Objective: Practice how to identify, handle and recover from potential errors in Python code using try-except blocks."
   ]
  },
  {
   "cell_type": "markdown",
   "id": "e253e768-aed8-4791-a800-87add1204afa",
   "metadata": {},
   "source": [
    "## Challenge \n",
    "\n",
    "Paste here your lab *functions* solutions. Apply error handling techniques to each function using try-except blocks. "
   ]
  },
  {
   "cell_type": "markdown",
   "id": "9180ff86-c3fe-4152-a609-081a287fa1af",
   "metadata": {},
   "source": [
    "The try-except block in Python is designed to handle exceptions and provide a fallback mechanism when code encounters errors. By enclosing the code that could potentially throw errors in a try block, followed by specific or general exception handling in the except block, we can gracefully recover from errors and continue program execution.\n",
    "\n",
    "However, there may be cases where an input may not produce an immediate error, but still needs to be addressed. In such situations, it can be useful to explicitly raise an error using the \"raise\" keyword, either to draw attention to the issue or handle it elsewhere in the program.\n",
    "\n",
    "Modify the code to handle possible errors in Python, it is recommended to use `try-except-else-finally` blocks, incorporate the `raise` keyword where necessary, and print meaningful error messages to alert users of any issues that may occur during program execution.\n",
    "\n"
   ]
  },
  {
   "cell_type": "code",
   "execution_count": null,
   "id": "cc2c441d-9dcf-4817-b097-cf6cbe440846",
   "metadata": {},
   "outputs": [],
   "source": [
    "# your code goes here\n",
    "def initialize_inventory(products):\n",
    "    inventory = {}\n",
    "    try:\n",
    "        for product in products:\n",
    "            while True:\n",
    "                try:\n",
    "                    user_quantity = int(input(f\"Introduce the quantity of {product}:\"))\n",
    "                    if user_quantity < 0:\n",
    "                        raise ValueError(\"Quantity cannot be negative. Please enter a valid quantity.\")\n",
    "                    inventory[product] = user_quantity\n",
    "                    break  # exit the loop if the input is valid\n",
    "                except ValueError as e:\n",
    "                    print(f\"Error: {e}\")\n",
    "                    continue  # prompt the user for input again\n",
    "    except Exception as e:\n",
    "        print(f\"An unexpected error occurred while initializing inventory: {e}\")\n",
    "    return inventory\n",
    "\n",
    "def get_customer_orders(products, inventory):\n",
    "    customer_orders = set()\n",
    "\n",
    "    try:\n",
    "        while True:\n",
    "            orders = input('Please enter the name of a product: ').lower()\n",
    "            if orders in products and inventory.get(orders, 0) > 0:\n",
    "                customer_orders.add(orders)\n",
    "            else:\n",
    "                print(f\"That product doesn't exist or is out of stock. Choose another one from {products}\")\n",
    "\n",
    "            more_orders = input('Would you like to add another product? (Y/N): ').strip().upper()\n",
    "            if more_orders != 'Y':\n",
    "                break\n",
    "    except Exception as e:\n",
    "        print(f\"An unexpected error occurred while getting customer orders: {e}\")\n",
    "    return customer_orders\n",
    "\n",
    "def update_inventory(customer_orders, inventory):\n",
    "    try:\n",
    "        for product in customer_orders:\n",
    "            if inventory.get(product, 0) > 0:\n",
    "                inventory[product] -= 1\n",
    "            else:\n",
    "                print(f\"There is no stock for {product}.\")\n",
    "    except KeyError as e:\n",
    "        print(f\"Error: {e}. The product does not exist in the inventory.\")\n",
    "    except Exception as e:\n",
    "        print(f\"An unexpected error occurred while updating the inventory: {e}\")\n",
    "    return inventory\n",
    "\n",
    "def calculate_order_statistics(customer_orders, products):\n",
    "    try:\n",
    "        # Total Products Ordered\n",
    "        total_products = len(customer_orders)\n",
    "\n",
    "        # Percentage of Products Ordered\n",
    "        if len(products) > 0:  # Avoid division by zero\n",
    "            percentage_products = (total_products / len(products)) * 100\n",
    "        else:\n",
    "            percentage_products = 0  # If no products, set to 0%\n",
    "\n",
    "        order_statistics = total_products, percentage_products\n",
    "    except ZeroDivisionError:\n",
    "        print(\"Error: No products available to calculate the percentage.\")\n",
    "        order_statistics = 0, 0\n",
    "    except Exception as e:\n",
    "        print(f\"An unexpected error occurred while calculating order statistics: {e}\")\n",
    "        order_statistics = 0, 0\n",
    "    return order_statistics\n"
   ]
  }
 ],
 "metadata": {
  "kernelspec": {
   "display_name": "Python 3 (ipykernel)",
   "language": "python",
   "name": "python3"
  },
  "language_info": {
   "codemirror_mode": {
    "name": "ipython",
    "version": 3
   },
   "file_extension": ".py",
   "mimetype": "text/x-python",
   "name": "python",
   "nbconvert_exporter": "python",
   "pygments_lexer": "ipython3",
   "version": "3.9.13"
  }
 },
 "nbformat": 4,
 "nbformat_minor": 5
}
